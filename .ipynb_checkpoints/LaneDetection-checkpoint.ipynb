{
 "cells": [
  {
   "cell_type": "markdown",
   "metadata": {},
   "source": [
    "## Import all package"
   ]
  },
  {
   "cell_type": "code",
   "execution_count": null,
   "metadata": {},
   "outputs": [],
   "source": [
    "import ipywidgets.widgets as widgets\n",
    "from jetbot import Robot\n",
    "import cv2\n",
    "import numpy as np\n",
    "import nanocamera as nano\n",
    "import PIL.Image\n",
    "from io import BytesIO"
   ]
  },
  {
   "cell_type": "markdown",
   "metadata": {},
   "source": [
    "## Image processing\n",
    " - **gray_scale ( image )** :  convert BGR image to CV2 format\n",
    " - **histogram_image ( image )** : Equalize value of the image\n",
    " - **binarization ( image )** : make image binarization\n",
    " - **low_pass_filter ( image )** : filter the high noise\n",
    " - **hough_transform( image )** : detect line by hough transform\n",
    " - **mask_region ( image )** : show the region we want\n",
    " - **pixel_points ( y1, y2, line)** : point the line\n",
    " - **average_slope_intercept( lines )** : get average slope\n",
    " - **lane_lines( image, lines)** : get the lane line and scale line length\n",
    " - **draw_lane_lines( image, lines)** : draw line on the image"
   ]
  },
  {
   "cell_type": "code",
   "execution_count": null,
   "metadata": {},
   "outputs": [],
   "source": [
    "SHOW_PREPROCRESULT = True\n",
    "\n",
    "def gray_scale(image):\n",
    "    return cv2.cvtColor(image, cv2.COLOR_RGB2GRAY)\n",
    "\n",
    "def histogram_image(image):\n",
    "    return cv2.equalizeHist(image)\n",
    "\n",
    "def binarization(image):\n",
    "    return cv2.threshold(image, 240, 255, cv2.THRESH_BINARY)\n",
    "    \n",
    "def low_pass_filter(image):\n",
    "    return cv2.medianBlur(image, 5)\n",
    "\n",
    "def hough_transform(image):\n",
    "    rho = 1              #Distance resolution of the accumulator in pixels.\n",
    "    theta = np.pi/180    #Angle resolution of the accumulator in radians.\n",
    "    threshold = 10       #Only lines that are greater than threshold will be returned.\n",
    "    minLineLength = 10   #Line segments shorter than that are rejected.\n",
    "    maxLineGap = 0      #Maximum allowed gap between points on the same line to link them\n",
    "    return cv2.HoughLinesP(image, rho = rho, theta = theta, threshold = threshold,\n",
    "                           minLineLength = minLineLength, maxLineGap = maxLineGap)\n",
    "    \n",
    "def mask_region(image):\n",
    "    mask_poly = np.array([[[0, 0], [0, 70], [80, 70], [80, 0]]])\n",
    "    cv2.fillPoly(image, mask_poly, (0, 0, 0))\n",
    "    return image\n",
    "\n",
    "def pixel_points(y1, y2, line):\n",
    "    if line is None:\n",
    "        return None\n",
    "    slope, intercept = line\n",
    "    if slope == 0:\n",
    "        return None\n",
    "    x1 = int((y1 - intercept)/slope)\n",
    "    x2 = int((y2 - intercept)/slope)\n",
    "    y1 = int(y1)\n",
    "    y2 = int(y2)\n",
    "    return ((x1, y1), (x2, y2))\n",
    "\n",
    "def average_slope_intercept(lines):\n",
    "    left_lines    = [] #(slope, intercept)\n",
    "    left_weights  = [] #(length,)\n",
    "    right_lines   = [] #(slope, intercept)\n",
    "    right_weights = [] #(length,)\n",
    "    \n",
    "    for line in lines:\n",
    "        for x1, y1, x2, y2 in line:\n",
    "            if x1 == x2:\n",
    "                continue\n",
    "            slope = (y2 - y1) / (x2 - x1)\n",
    "            intercept = y1 - (slope * x1)\n",
    "            length = np.sqrt(((y2 - y1) ** 2) + ((x2 - x1) ** 2))\n",
    "            if slope < 0:\n",
    "                left_lines.append((slope, intercept))\n",
    "                left_weights.append((length))\n",
    "            else:\n",
    "                right_lines.append((slope, intercept))\n",
    "                right_weights.append((length))\n",
    "    left_lane  = np.dot(left_weights,  left_lines) / np.sum(left_weights)  if len(left_weights) > 0 else None\n",
    "    right_lane = np.dot(right_weights, right_lines) / np.sum(right_weights) if len(right_weights) > 0 else None\n",
    "    return left_lane, right_lane\n",
    "\n",
    "def lane_lines(image, lines):\n",
    "    left_lane, right_lane = average_slope_intercept(lines)\n",
    "    y1 = image.shape[0]\n",
    "    y2 = y1 * 0.5\n",
    "    left_line  = pixel_points(y1, y2, left_lane)\n",
    "    right_line = pixel_points(y1, y2, right_lane)\n",
    "    return left_line, right_line\n",
    "    \n",
    "def draw_lane_lines(image, lines):\n",
    "    line_image = np.zeros_like(image)\n",
    "    for line in lines:\n",
    "        if line is not None:\n",
    "            cv2.line(line_image, *line,  LINE_COLOR, LINE_THICKNESS)\n",
    "    return cv2.addWeighted(image, 1.0, line_image, 1.0, 0.0)"
   ]
  },
  {
   "cell_type": "markdown",
   "metadata": {},
   "source": [
    "## Find lane by image processing"
   ]
  },
  {
   "cell_type": "code",
   "execution_count": null,
   "metadata": {},
   "outputs": [],
   "source": [
    "def findLane(src):\n",
    "    gray         = gray_scale(src)\n",
    "    hist         = histogram_image(gray)\n",
    "    ret, binary  = binarization(hist)\n",
    "    median       = low_pass_filter(binary)\n",
    "    hough        = hough_transform(median)\n",
    "    region       = mask_region(hough)\n",
    "    lane         = None if (len(region) < 4) else lane_lines(src, region)\n",
    "    result_image = draw_lane_lines(src, lane)\n",
    "    processing_image = cv2.cvtColor(median, cv2.COLOR_RGBA2RGB) if SHOW_PREPROCRESULT else None  \n",
    "    return lane, result_image, processing_image"
   ]
  },
  {
   "cell_type": "markdown",
   "metadata": {},
   "source": [
    "## Convert NDArray image to bytes format"
   ]
  },
  {
   "cell_type": "code",
   "execution_count": null,
   "metadata": {},
   "outputs": [],
   "source": [
    "def getImage(ndarrayImage, fmt='jpeg', BGR2RGB = False):\n",
    "    rgbImage = np.uint8(ndarrayImage)\n",
    "    if BGR2RGB:\n",
    "        rgbImage = rgbImage[...,::-1].copy()\n",
    "    f = BytesIO()\n",
    "    image = PIL.Image.fromarray(rgbImage).save(f, fmt)\n",
    "    return f.getvalue()"
   ]
  },
  {
   "cell_type": "markdown",
   "metadata": {},
   "source": [
    "## Robot movement !!!!!\n",
    " - **angle_between(p1, p2)** : calculate two vector degree\n",
    " - **get_direction ( image, lines )** : get direction by slope"
   ]
  },
  {
   "cell_type": "code",
   "execution_count": null,
   "metadata": {},
   "outputs": [],
   "source": [
    "ROBOT_MOVEMENT = False\n",
    "SWAP_LR_MOTOR = True\n",
    "\n",
    "def angle_between(p1, p2):\n",
    "    ang1 = np.arctan2(*p1[::-1])\n",
    "    ang2 = np.arctan2(*p2[::-1])\n",
    "    return np.rad2deg((ang1 - ang2) % (2 * np.pi))\n",
    "\n",
    "def get_direction(image, lines):\n",
    "    x1 = y1 = x2 = y2 = 0\n",
    "    line_count = 0\n",
    "    for line in lines:\n",
    "        if line is not None:\n",
    "            x1 += line[0][0] \n",
    "            y1 += line[0][1] \n",
    "            x2 += line[1][0] \n",
    "            y2 += line[1][1] \n",
    "            line_count = line_count + 1\n",
    "    if line_count is not 0:\n",
    "        x1 = x1 / line_count\n",
    "        x2 = x2 / line_count\n",
    "        y1 = y1 / line_count\n",
    "        y2 = y2 / line_count\n",
    "    else :\n",
    "        return None\n",
    "    angle = angle_between((x1 - x2, y1 - y2), (0, 1))\n",
    "    return angle\n",
    "\n",
    "# 這裡應該還要改一下 direction 現在回傳是角度 目標斜率與向量 1,0 的夾角\n",
    "def calc_motor_PWR(direction, normal_speed=0.3):\n",
    "    if direction is None:\n",
    "        return 0, 0\n",
    "    fix = -(direction - 0.5)/8\n",
    "    if fix > 0:\n",
    "        right_PWR = normal_speed + fix\n",
    "        left_PWR = normal_speed\n",
    "    else:\n",
    "        right_PWR = normal_speed\n",
    "        left_PWR = normal_speed - fix\n",
    "    print([direction, fix, left_PWR, right_PWR])\n",
    "    return left_PWR, right_PWR\n",
    "\n",
    "def robot_move(robot=None, left_motor_PWR=0, right_motor_PWR=0, adjust_gain = 0.03):\n",
    "    if robot is None:\n",
    "        return\n",
    "    if SWAP_LR_MOTOR:\n",
    "        robot.set_motors(-(right_motor_PWR * (1-adjust_gain)), -(left_motor_PWR * (1+adjust_gain)))\n",
    "    else:\n",
    "        robot.set_motors(left_motor_PWR * (1+adjust_gain), right_motor_PWR * (1-adjust_gain))\n",
    "\n",
    "def robot_follow_direction(robot=None, direction=None, normal_speed=0.3):\n",
    "    if ROBOT_MOVEMENT:\n",
    "        left_PWR, right_PWR = calc_motor_PWR(direction, normal_speed)\n",
    "        robot_move(robot, left_PWR, right_PWR)"
   ]
  },
  {
   "cell_type": "markdown",
   "metadata": {},
   "source": [
    "# Main function"
   ]
  },
  {
   "cell_type": "code",
   "execution_count": null,
   "metadata": {},
   "outputs": [],
   "source": [
    "if __name__ == '__main__':\n",
    "    robot = Robot()\n",
    "    camera = nano.Camera(flip=0, width=160, height=120, fps=60)\n",
    "    image = widgets.Image(format='jpeg', width=300, height=300)\n",
    "    processImage = widgets.Image(format='jpeg', width=300, height=300)\n",
    "    display(image, processImage)\n",
    "    directionText = widgets.Text(value = \"Direction : \")\n",
    "    display(directionText)\n",
    "    \n",
    "    while (camera.isReady()):\n",
    "        try:\n",
    "            frame = camera.read()\n",
    "            if frame is not None:\n",
    "                image.value = getImage(frame, BGR2RGB = True)\n",
    "            lane, result, pre_image = findLane(frame)\n",
    "            if lane is None:\n",
    "                continue\n",
    "            if pre_image is not None : \n",
    "                processImage.value = getImage(pre_image)\n",
    "                \n",
    "            direction = get_direction(result, lane)\n",
    "            directionText.value = \"Direction : \" + str(direction)\n",
    "            \n",
    "            robot.stop()\n",
    "            robot_follow_direction(robot = robot, direction = direction)           \n",
    "        except KeyboardInterrupt:\n",
    "            break\n",
    "    camera.release()\n",
    "    del camera"
   ]
  },
  {
   "cell_type": "code",
   "execution_count": null,
   "metadata": {},
   "outputs": [],
   "source": []
  }
 ],
 "metadata": {
  "kernelspec": {
   "display_name": "Python 3",
   "language": "python",
   "name": "python3"
  },
  "language_info": {
   "codemirror_mode": {
    "name": "ipython",
    "version": 3
   },
   "file_extension": ".py",
   "mimetype": "text/x-python",
   "name": "python",
   "nbconvert_exporter": "python",
   "pygments_lexer": "ipython3",
   "version": "3.6.9"
  }
 },
 "nbformat": 4,
 "nbformat_minor": 4
}
